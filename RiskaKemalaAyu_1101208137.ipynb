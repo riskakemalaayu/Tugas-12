{
  "nbformat": 4,
  "nbformat_minor": 0,
  "metadata": {
    "colab": {
      "name": "Untitled25.ipynb",
      "provenance": [],
      "authorship_tag": "ABX9TyOP2lYIIrMs1wdIgMo/oY2s",
      "include_colab_link": true
    },
    "kernelspec": {
      "name": "python3",
      "display_name": "Python 3"
    }
  },
  "cells": [
    {
      "cell_type": "markdown",
      "metadata": {
        "id": "view-in-github",
        "colab_type": "text"
      },
      "source": [
        "<a href=\"https://colab.research.google.com/github/riskakemalaayu/Tugas-12/blob/main/RiskaKemalaAyu_1101208137.ipynb\" target=\"_parent\"><img src=\"https://colab.research.google.com/assets/colab-badge.svg\" alt=\"Open In Colab\"/></a>"
      ]
    },
    {
      "cell_type": "code",
      "metadata": {
        "id": "8PXnF8rBfKOH"
      },
      "source": [
        "# Name : RISKA KEMALA AYU\r\n",
        "# NIM : 1101208137\r\n",
        "# Class : TTX 44-01"
      ],
      "execution_count": null,
      "outputs": []
    },
    {
      "cell_type": "code",
      "metadata": {
        "id": "0hh5haOjfPPA"
      },
      "source": [
        "import numpy as np"
      ],
      "execution_count": 1,
      "outputs": []
    },
    {
      "cell_type": "code",
      "metadata": {
        "id": "OGclwUGmfSyX"
      },
      "source": [
        "NtL = lambda x: 10*np.log10(x)"
      ],
      "execution_count": 2,
      "outputs": []
    },
    {
      "cell_type": "code",
      "metadata": {
        "colab": {
          "base_uri": "https://localhost:8080/"
        },
        "id": "UBYadflNfUmh",
        "outputId": "edb9951f-8fb8-43aa-ea06-7151f022de1b"
      },
      "source": [
        "z=NtL(100)\r\n",
        "print(z)"
      ],
      "execution_count": 3,
      "outputs": [
        {
          "output_type": "stream",
          "text": [
            "20.0\n"
          ],
          "name": "stdout"
        }
      ]
    },
    {
      "cell_type": "code",
      "metadata": {
        "id": "Vhsc7VFJfXM3"
      },
      "source": [
        "LtN = lambda x: 10**(x/10)"
      ],
      "execution_count": 4,
      "outputs": []
    },
    {
      "cell_type": "code",
      "metadata": {
        "colab": {
          "base_uri": "https://localhost:8080/"
        },
        "id": "UuvDYDVEfa5I",
        "outputId": "05f6c198-b949-4f37-f9fa-91c22c480d94"
      },
      "source": [
        "y=LtN(100)\r\n",
        "print(y)"
      ],
      "execution_count": 5,
      "outputs": [
        {
          "output_type": "stream",
          "text": [
            "10000000000.0\n"
          ],
          "name": "stdout"
        }
      ]
    },
    {
      "cell_type": "code",
      "metadata": {
        "colab": {
          "base_uri": "https://localhost:8080/"
        },
        "id": "v9cnK3XBgCo6",
        "outputId": "8c0a7d05-232d-4371-fbde-89bc32a4f76b"
      },
      "source": [
        "# Daerah Suburban\r\n",
        "Lp = 69.55  + (26.16*np.log10(950)) - (13.83*np.log10(95)) - ((((1.1*np.log10(950))-0.7)*25) - ((1.56*np.log10(950))-0.8)) + ((44.9-(6.55*np.log10(25)))*np.log10(10)) + (-10.0852)\r\n",
        "print(Lp)"
      ],
      "execution_count": 6,
      "outputs": [
        {
          "output_type": "stream",
          "text": [
            "85.21147467521693\n"
          ],
          "name": "stdout"
        }
      ]
    },
    {
      "cell_type": "code",
      "metadata": {
        "colab": {
          "base_uri": "https://localhost:8080/"
        },
        "id": "GD2ie27BhKNN",
        "outputId": "03b0f990-5e2d-4649-cc7d-25a6c5786c1a"
      },
      "source": [
        "# Daerah Urban\r\n",
        "Lp = 69.55  + (26.16*np.log10(950)) - (13.83*np.log10(95)) - ((((1.1*np.log10(950))-0.7)*25) - ((1.56*np.log10(950))-0.8)) + ((44.9-(6.55*np.log10(25)))*np.log10(10)) + (0)\r\n",
        "print(Lp)"
      ],
      "execution_count": 7,
      "outputs": [
        {
          "output_type": "stream",
          "text": [
            "95.29667467521693\n"
          ],
          "name": "stdout"
        }
      ]
    },
    {
      "cell_type": "code",
      "metadata": {
        "colab": {
          "base_uri": "https://localhost:8080/"
        },
        "id": "EavMjH7HhoIW",
        "outputId": "a41e3e06-ac82-4bfa-917d-ac22444022b9"
      },
      "source": [
        "# Daerah Open\r\n",
        "Lp = 69.55  + (26.16*np.log10(950)) - (13.83*np.log10(95)) - ((((1.1*np.log10(950))-0.7)*25) - ((1.56*np.log10(950))-0.8)) + ((44.9-(6.55*np.log10(25)))*np.log10(10)) + (-28.7418)\r\n",
        "print(Lp)"
      ],
      "execution_count": 8,
      "outputs": [
        {
          "output_type": "stream",
          "text": [
            "66.55487467521694\n"
          ],
          "name": "stdout"
        }
      ]
    },
    {
      "cell_type": "code",
      "metadata": {
        "id": "gKLOZOoqitJv"
      },
      "source": [
        "def ploss (d, f, cm, ht, hr):\r\n",
        "  pldb= 69.55 + (26.16*np.log10(f)) - (13.83*np.log10(ht)) - ((((1.1*np.log10(f)) - 0.7) * hr) - ((1.56*np.log10(f)) - 0.8)) + ((44.9 - (6.55*np.log10(ht)))*np.log10(d)) + cm\r\n",
        "  plnum=LtN(-pldb)\r\n",
        "  return pldb,plnum"
      ],
      "execution_count": 9,
      "outputs": []
    },
    {
      "cell_type": "code",
      "metadata": {
        "colab": {
          "base_uri": "https://localhost:8080/"
        },
        "id": "tPjrn3IGi8X8",
        "outputId": "49d9dcc6-7b6b-4354-a224-43db40162a4e"
      },
      "source": [
        "# Daerah Suburban\r\n",
        "pathlossdb, pathlossnum = ploss(10, 950, -10.0852, 95, 25)\r\n",
        "print(\"pathloss dalam db =\",pathlossdb,\"dB\")\r\n",
        "print(\"pathloss dalam numerik =\",pathlossnum,\"kali\")"
      ],
      "execution_count": 10,
      "outputs": [
        {
          "output_type": "stream",
          "text": [
            "pathloss dalam db = 81.41389211737683 dB\n",
            "pathloss dalam numerik = 7.221223524226068e-09 kali\n"
          ],
          "name": "stdout"
        }
      ]
    },
    {
      "cell_type": "code",
      "metadata": {
        "colab": {
          "base_uri": "https://localhost:8080/"
        },
        "id": "J5uSTW-ykIWb",
        "outputId": "fcaa844d-1c9e-4674-bb6a-d3514a5bbb9f"
      },
      "source": [
        "# Daerah Urban\r\n",
        "pathlossdb, pathlossnum = ploss(10, 950, 0, 95, 25)\r\n",
        "print(\"pathloss dalam db =\",pathlossdb,\"dB\")\r\n",
        "print(\"pathloss dalam numerik =\",pathlossnum,\"kali\")"
      ],
      "execution_count": 11,
      "outputs": [
        {
          "output_type": "stream",
          "text": [
            "pathloss dalam db = 91.49909211737683 dB\n",
            "pathloss dalam numerik = 7.080937942917115e-10 kali\n"
          ],
          "name": "stdout"
        }
      ]
    },
    {
      "cell_type": "code",
      "metadata": {
        "colab": {
          "base_uri": "https://localhost:8080/"
        },
        "id": "NHBdSPjPlzIK",
        "outputId": "62be618a-05e8-4cc9-af6e-cfe831377adb"
      },
      "source": [
        "# Daerah Open\r\n",
        "pathlossdb, pathlossnum = ploss(10, 950, -28.7418, 95, 25)\r\n",
        "print(\"pathloss dalam db =\",pathlossdb,\"dB\")\r\n",
        "print(\"pathloss dalam numerik =\",pathlossnum,\"kali\")"
      ],
      "execution_count": 12,
      "outputs": [
        {
          "output_type": "stream",
          "text": [
            "pathloss dalam db = 62.757292117376835 dB\n",
            "pathloss dalam numerik = 5.299937989227408e-07 kali\n"
          ],
          "name": "stdout"
        }
      ]
    }
  ]
}